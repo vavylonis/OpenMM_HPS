{
  "cells": [
    {
      "cell_type": "code",
      "execution_count": 3,
      "metadata": {
        "colab": {
          "base_uri": "https://localhost:8080/"
        },
        "id": "4hFcMDu2e8wf",
        "outputId": "3691abdf-0df5-4c81-e4a8-53eaf4739de0"
      },
      "outputs": [
        {
          "output_type": "stream",
          "name": "stdout",
          "text": [
            "✨🍰✨ Everything looks OK!\n",
            "✨🍰✨ Everything looks OK!\n"
          ]
        }
      ],
      "source": [
        "!pip install -q condacolab\n",
        "import condacolab\n",
        "condacolab.install()"
      ]
    },
    {
      "cell_type": "code",
      "execution_count": 2,
      "metadata": {
        "collapsed": true,
        "id": "t_zHyDOggUXi"
      },
      "outputs": [],
      "source": [
        "%%capture\n",
        "!conda install -c conda-forge openmm mdtraj parmed py3dmol\n",
        "#install openabc for single bead per aminoacid CG models\n",
        "#https://journals.plos.org/ploscompbiol/article?id=10.1371/journal.pcbi.1011442\n",
        "#https://github.com/ZhangGroup-MITChemistry/OpenABC\n",
        "!pip install openabc"
      ]
    },
    {
      "cell_type": "code",
      "execution_count": 4,
      "metadata": {
        "id": "TVsOaCOF1bzV"
      },
      "outputs": [],
      "source": [
        "# allow widgets in colab\n",
        "from google.colab import output\n",
        "output.enable_custom_widget_manager()\n",
        "#check openmm installation\n",
        "#!python -m openmm.testInstallation"
      ]
    },
    {
      "cell_type": "code",
      "execution_count": 5,
      "metadata": {
        "id": "C1TaE3QKgmOD"
      },
      "outputs": [],
      "source": [
        "# load packages\n",
        "import numpy as np\n",
        "import pandas as pd\n",
        "import matplotlib.pyplot as plt\n",
        "import mdtraj\n",
        "import py3Dmol\n",
        "import sys\n",
        "try:\n",
        "    import openmm as mm\n",
        "    import openmm.app as app\n",
        "    import openmm.unit as unit\n",
        "except ImportError:\n",
        "    import simtk.openmm as mm\n",
        "    import simtk.openmm.app as app\n",
        "    import simtk.unit as unit\n",
        "\n",
        "sys.path.append('../../')\n",
        "\n",
        "# load HPS model with OpenABC\n",
        "from openabc.forcefields.parsers import HPSParser\n",
        "from openabc.forcefields import HPSModel\n",
        "from openabc.utils.helper_functions import build_straight_CA_chain, write_pdb, compute_rg\n",
        "from openabc.lib import *"
      ]
    },
    {
      "cell_type": "code",
      "execution_count": 6,
      "metadata": {
        "id": "InvL4k-VblJK"
      },
      "outputs": [],
      "source": [
        "# set simulation platform\n",
        "platform_name = 'CUDA'   # CPU or CUDA"
      ]
    },
    {
      "cell_type": "code",
      "execution_count": 7,
      "metadata": {
        "id": "Rn6p8uTpEq3j"
      },
      "outputs": [],
      "source": [
        "# sequences studied in original HPS paper by Dignon et al. https://doi.org/10.1371/journal.pcbi.1005941\n",
        "CspTm = 'GPGMRGKVKWFDSKKGYGFITKDEGGDVFVHWSAIEMEGFKTLKEGQVVEFEIQEGKKGGQAAHVKV'\n",
        "IN = 'GSHCFLDGIDKAQEEHEKYHSNWRAMASDFNLPPVVAKEIVASCDKCQLKGEAMHGQVDC'\n",
        "ProTaN = 'GPSDAAVDTSSEITTKDLKEKKEVVEEAENGRDAPANGNAENEENGEQEADNEVDEECEEGGEEEEEEEEGDGEEEDGDEDEEAESATGKRAAEDDEDDDVDTKKQKTDEDD'\n",
        "ProTaC = 'MAHHHHHHSAALEVLFQGPMSDAAVDTSSEITTKDLKEKKEVVEEAENGRDAPANGNANEENGEQEADNEVDEECEEGGEEEEEEEEGDGEEEDGDEDEEAESATGKRAAEDDEDDDVDTKKQKTDEDD'\n",
        "R15 = 'KLKEANKQQNFNTGIKDFDFWLSEVEALLASEDYGKDLASVNNLLKKHQLLEADISAHEDRLKDLNSQADSLMTSSAFDTSQVKDKRETINGRFQRIKSMAAARRAKLNESHRL'\n",
        "R17 = 'RLEESLEYQQFVANVEEEEAWINEKMTLVASEDYGDTLAAIQGLLKKHEAFETDFTVHKDRVNDVAANGEDLIKKNNHHVENITAKMKGLKGKVSDLEKA'\n",
        "hCyp = 'SSFHRIIPGFMSQGGDFTRHNGTGGKSIYGEKFEDENFILKHTGPGILSMANAGPNTNGSQFFISTAKTEFLDGKHVVFGKVKEGMNIVEAMERFGSRNGKTSKKITIADSGQLE'\n",
        "ProteinL = 'MEEVTIKANLIFANGSTQTAEFKGTFEKATSEAYAYADTLKKDNGEWTVDVADKGYTLNIKFAG'\n",
        "ACTR = 'GTQNRPLLRNSLDDLVGPPSNLEGQSDERALLDQLHTLLSNTDATGLEEIDRALGIPELVNQGQALEPKQD'\n",
        "hNHE1cdt = 'MVPAHKLDSPTMSRARIGSDPLAYEPKEDLPVITIDPASPQSPESVDLVNEELKGKVLGLSRDPAKVAEEDEDDDGGIMMRSKETSSPGTDDVFTPAPSDSPSSQRIQRCLSDPGPHPEPGEGEPFFPKGQ'\n",
        "sNase = 'ATSTKKLHKEPATLIKAIDGDTVKLMYKGQPMTFRLLLVDTPETKHPKKGVEKYGPEASAFTKKMVENAKKIEVEFDKGQRTDKYGRGLAYIYADGKMVNEALVRQGLAKVAYVYKPNNTHEQHLRKSEAQAKKEK'\n",
        "alphasynuclein = 'MDVFMKGLSKAKEGVVAAAEKTKQGVAEAAGKTKEGVLYVGSKTKEGVVHGVATVAEKTKEQVTNVGGAVVTGVTAVAQKTVEGAGSIAAATGFVKKDQLGKNEEGAPQEGILEDMPVDPDNEAYEMPSE EGYQDYEPEA'\n"
      ]
    },
    {
      "cell_type": "code",
      "execution_count": 8,
      "metadata": {
        "colab": {
          "base_uri": "https://localhost:8080/"
        },
        "id": "TzW6rn9gjcik",
        "outputId": "1fc2e572-691e-42b5-cf3c-8d9882092df2"
      },
      "outputs": [
        {
          "output_type": "stream",
          "name": "stdout",
          "text": [
            "Parse molecule with default settings.\n"
          ]
        }
      ],
      "source": [
        "sequence = CspTm\n",
        "ca_pdb = 'init.pdb'\n",
        "ca_atoms = build_straight_CA_chain(sequence, r0=0.38)\n",
        "write_pdb(ca_atoms, ca_pdb)\n",
        "protein_parser = HPSParser(ca_pdb)\n",
        "protein = HPSModel()\n",
        "protein.append_mol(protein_parser)"
      ]
    },
    {
      "cell_type": "code",
      "execution_count": 9,
      "metadata": {
        "collapsed": true,
        "id": "izzcrNpsmnWJ",
        "colab": {
          "base_uri": "https://localhost:8080/"
        },
        "outputId": "6945ab98-92d1-43ce-bb0f-37d80d0e3997"
      },
      "outputs": [
        {
          "output_type": "stream",
          "name": "stdout",
          "text": [
            "Add protein bonds.\n",
            "Add nonbonded contacts.\n",
            "Use KR hydropathy scale.\n",
            "Scale factor mu = 1 and shift delta = 0.\n",
            "Add Debye-Huckel electrostatic interactions.\n",
            "Set Debye length as 1 nm.\n",
            "Set water dielectric as 80.0.\n",
            "Use platform: CUDA\n",
            "Use precision: mixed\n"
          ]
        }
      ],
      "source": [
        "top = app.PDBFile(ca_pdb).getTopology()\n",
        "init_coord = app.PDBFile(ca_pdb).getPositions()\n",
        "protein.create_system(top, box_a=100, box_b=100, box_c=100)\n",
        "protein.add_protein_bonds(force_group=1)\n",
        "#KR HPS scale as in original Dignon et al. HPS paper.\n",
        "protein.add_contacts('KR', mu=1, delta=0, force_group=2)\n",
        "#Used in OpenABC example: protein.add_contacts('Urry', mu=1, delta=0.08, force_group=2)\n",
        "#Default Debye screening length = 1 nm (~ 100 mM ionic strength) ; dielectric constant = 80\n",
        "protein.add_dh_elec(force_group=3)\n",
        "temperature = 300*unit.kelvin\n",
        "friction_coeff = 1/unit.picosecond\n",
        "timestep = 10*unit.femtosecond\n",
        "integrator = mm.LangevinMiddleIntegrator(temperature, friction_coeff, timestep)\n",
        "protein.set_simulation(integrator, platform_name, init_coord=init_coord)"
      ]
    },
    {
      "cell_type": "code",
      "source": [
        "%%capture\n",
        "protein.simulation.minimizeEnergy()\n",
        "output_interval = 1000 # measused in number of timesteps: 1000 steps = 10 ps for timestep = 10 fs\n",
        "nanosec = 100000 # measured in number of timesteps: 100000 steps = 1 ns for timestep = 10 fs\n",
        "output_dcd = 'output.dcd'\n",
        "protein.add_reporters(output_interval, output_dcd)\n",
        "protein.simulation.context.setVelocitiesToTemperature(temperature)\n",
        "protein.simulation.step(int(100*nanosec))"
      ],
      "metadata": {
        "id": "FwNAymWW0lE6"
      },
      "execution_count": 10,
      "outputs": []
    },
    {
      "cell_type": "markdown",
      "source": [],
      "metadata": {
        "id": "KmDUrlIUXINU"
      }
    },
    {
      "cell_type": "code",
      "execution_count": 11,
      "metadata": {
        "colab": {
          "base_uri": "https://localhost:8080/",
          "height": 417
        },
        "id": "7t3S07KR0-nf",
        "outputId": "4594ce35-36c8-46d2-c3c3-ff37f1e7f4c8"
      },
      "outputs": [
        {
          "output_type": "display_data",
          "data": {
            "application/3dmoljs_load.v0": "<div id=\"3dmolviewer_17359332327753377\"  style=\"position: relative; width: 400px; height: 400px;\">\n        <p id=\"3dmolwarning_17359332327753377\" style=\"background-color:#ffcccc;color:black\">3Dmol.js failed to load for some reason.  Please check your browser console for error messages.<br></p>\n        </div>\n<script>\n\nvar loadScriptAsync = function(uri){\n  return new Promise((resolve, reject) => {\n    //this is to ignore the existence of requirejs amd\n    var savedexports, savedmodule;\n    if (typeof exports !== 'undefined') savedexports = exports;\n    else exports = {}\n    if (typeof module !== 'undefined') savedmodule = module;\n    else module = {}\n\n    var tag = document.createElement('script');\n    tag.src = uri;\n    tag.async = true;\n    tag.onload = () => {\n        exports = savedexports;\n        module = savedmodule;\n        resolve();\n    };\n  var firstScriptTag = document.getElementsByTagName('script')[0];\n  firstScriptTag.parentNode.insertBefore(tag, firstScriptTag);\n});\n};\n\nif(typeof $3Dmolpromise === 'undefined') {\n$3Dmolpromise = null;\n  $3Dmolpromise = loadScriptAsync('https://cdnjs.cloudflare.com/ajax/libs/3Dmol/2.4.2/3Dmol-min.js');\n}\n\nvar viewer_17359332327753377 = null;\nvar warn = document.getElementById(\"3dmolwarning_17359332327753377\");\nif(warn) {\n    warn.parentNode.removeChild(warn);\n}\n$3Dmolpromise.then(function() {\nviewer_17359332327753377 = $3Dmol.createViewer(document.getElementById(\"3dmolviewer_17359332327753377\"),{backgroundColor:\"white\"});\nviewer_17359332327753377.zoomTo();\n\tviewer_17359332327753377.addModelsAsFrames(\"MODEL        0\\nATOM      1  CA  GLY A   1       9.0131008.152 990.109  1.00  0.00           C  \\nATOM      2  CA  PRO A   2       9.8231006.483 986.917  1.00  0.00           C  \\nATOM      3  CA  GLY A   3      11.7661003.509 985.950  1.00  0.00           C  \\nATOM      4  CA  MET A   4      10.8601000.491 988.122  1.00  0.00           C  \\nATOM      5  CA  ARG A   5      11.4871001.816 991.707  1.00  0.00           C  \\nATOM      6  CA  GLY A   6      14.2251003.449 993.622  1.00  0.00           C  \\nATOM      7  CA  LYS A   7      17.7211005.489 993.913  1.00  0.00           C  \\nATOM      8  CA  VAL A   8      16.9921006.301 989.922  1.00  0.00           C  \\nATOM      9  CA  LYS A   9      16.4441009.823 988.851  1.00  0.00           C  \\nATOM     10  CA  TRP A  10      14.9611012.288 986.042  1.00  0.00           C  \\nATOM     11  CA  PHE A  11      13.3331010.404 983.137  1.00  0.00           C  \\nATOM     12  CA  ASP A  12      13.1961008.885 979.481  1.00  0.00           C  \\nATOM     13  CA  SER A  13      11.6751005.786 977.780  1.00  0.00           C  \\nATOM     14  CA  LYS A  14       9.4351002.990 977.030  1.00  0.00           C  \\nATOM     15  CA  LYS A  15       6.5851000.737 978.178  1.00  0.00           C  \\nATOM     16  CA  GLY A  16       5.262 997.293 978.347  1.00  0.00           C  \\nATOM     17  CA  TYR A  17       5.362 994.868 980.809  1.00  0.00           C  \\nATOM     18  CA  GLY A  18       3.992 991.779 982.566  1.00  0.00           C  \\nATOM     19  CA  PHE A  19       5.507 989.029 984.440  1.00  0.00           C  \\nATOM     20  CA  ILE A  20       5.260 989.028 987.939  1.00  0.00           C  \\nATOM     21  CA  THR A  21       3.109 992.349 989.057  1.00  0.00           C  \\nATOM     22  CA  LYS A  22       1.376 995.612 989.154  1.00  0.00           C  \\nATOM     23  CA  ASP A  23       0.112 997.343 992.416  1.00  0.00           C  \\nATOM     24  CA  GLU A  24      -0.194 995.439 995.749  1.00  0.00           C  \\nATOM     25  CA  GLY A  25      -0.104 993.630 999.248  1.00  0.00           C  \\nATOM     26  CA  GLY A  26       3.309 995.7251000.507  1.00  0.00           C  \\nATOM     27  CA  ASP A  27       6.251 997.8721002.638  1.00  0.00           C  \\nATOM     28  CA  VAL A  28       3.262 999.6701003.405  1.00  0.00           C  \\nATOM     29  CA  PHE A  29       0.0691000.6791001.695  1.00  0.00           C  \\nATOM     30  CA  VAL A  30      -0.1671003.601 999.169  1.00  0.00           C  \\nATOM     31  CA  HIS A  31      -2.7891003.143 996.212  1.00  0.00           C  \\nATOM     32  CA  TRP A  32      -2.1761006.098 993.354  1.00  0.00           C  \\nATOM     33  CA  SER A  33      -5.5721005.309 991.463  1.00  0.00           C  \\nATOM     34  CA  ALA A  34      -8.7861004.302 992.161  1.00  0.00           C  \\nATOM     35  CA  ILE A  35      -9.1361005.018 995.614  1.00  0.00           C  \\nATOM     36  CA  GLU A  36     -11.7411006.086 997.828  1.00  0.00           C  \\nATOM     37  CA  MET A  37     -13.8191004.3331000.453  1.00  0.00           C  \\nATOM     38  CA  GLU A  38     -17.3591004.006 999.344  1.00  0.00           C  \\nATOM     39  CA  GLY A  39     -18.7421002.6631002.597  1.00  0.00           C  \\nATOM     40  CA  PHE A  40     -18.0131003.6761006.070  1.00  0.00           C  \\nATOM     41  CA  LYS A  41     -14.7681002.4961007.695  1.00  0.00           C  \\nATOM     42  CA  THR A  42     -11.8501000.3981006.273  1.00  0.00           C  \\nATOM     43  CA  LEU A  43     -11.774 998.2421003.099  1.00  0.00           C  \\nATOM     44  CA  LYS A  44      -9.599 996.2771000.373  1.00  0.00           C  \\nATOM     45  CA  GLU A  45      -5.953 996.3421000.876  1.00  0.00           C  \\nATOM     46  CA  GLY A  46      -5.499 996.4141004.805  1.00  0.00           C  \\nATOM     47  CA  GLN A  47      -6.356 993.3521006.625  1.00  0.00           C  \\nATOM     48  CA  VAL A  48      -9.552 992.3891008.685  1.00  0.00           C  \\nATOM     49  CA  VAL A  49     -10.065 989.9871011.702  1.00  0.00           C  \\nATOM     50  CA  GLU A  50     -11.310 988.0841014.949  1.00  0.00           C  \\nATOM     51  CA  PHE A  51     -12.421 990.5821017.811  1.00  0.00           C  \\nATOM     52  CA  GLU A  52     -10.957 993.7521019.316  1.00  0.00           C  \\nATOM     53  CA  ILE A  53      -8.941 996.6281018.473  1.00  0.00           C  \\nATOM     54  CA  GLN A  54      -6.876 998.8301016.144  1.00  0.00           C  \\nATOM     55  CA  GLU A  55      -3.228 998.9061017.665  1.00  0.00           C  \\nATOM     56  CA  GLY A  56      -2.429 995.0451018.068  1.00  0.00           C  \\nATOM     57  CA  LYS A  57      -1.005 992.2671016.068  1.00  0.00           C  \\nATOM     58  CA  LYS A  58       2.563 991.3311015.565  1.00  0.00           C  \\nATOM     59  CA  GLY A  59       4.538 994.3631014.638  1.00  0.00           C  \\nATOM     60  CA  GLY A  60       6.083 996.5121011.553  1.00  0.00           C  \\nATOM     61  CA  GLN A  61       3.271 997.4061009.568  1.00  0.00           C  \\nATOM     62  CA  ALA A  62      -0.633 997.3641008.076  1.00  0.00           C  \\nATOM     63  CA  ALA A  63      -1.899 999.5841011.076  1.00  0.00           C  \\nATOM     64  CA  HIS A  64       0.2941002.7041012.396  1.00  0.00           C  \\nATOM     65  CA  VAL A  65       1.9451004.2611009.399  1.00  0.00           C  \\nATOM     66  CA  LYS A  66       4.1461007.2891008.822  1.00  0.00           C  \\nATOM     67  CA  VAL A  67       4.9251008.2701005.193  1.00  0.00           C  \\nTER      68      VAL A  67\\nENDMDL\\nEND\\n\",\"pdb\");\n\tviewer_17359332327753377.setBackgroundColor(\"white\");\n\tviewer_17359332327753377.setStyle({\"sphere\": {\"colorscheme\": \"amino\"}});\n\tviewer_17359332327753377.zoomTo();\nviewer_17359332327753377.render();\n});\n</script>",
            "text/html": [
              "<div id=\"3dmolviewer_17359332327753377\"  style=\"position: relative; width: 400px; height: 400px;\">\n",
              "        <p id=\"3dmolwarning_17359332327753377\" style=\"background-color:#ffcccc;color:black\">3Dmol.js failed to load for some reason.  Please check your browser console for error messages.<br></p>\n",
              "        </div>\n",
              "<script>\n",
              "\n",
              "var loadScriptAsync = function(uri){\n",
              "  return new Promise((resolve, reject) => {\n",
              "    //this is to ignore the existence of requirejs amd\n",
              "    var savedexports, savedmodule;\n",
              "    if (typeof exports !== 'undefined') savedexports = exports;\n",
              "    else exports = {}\n",
              "    if (typeof module !== 'undefined') savedmodule = module;\n",
              "    else module = {}\n",
              "\n",
              "    var tag = document.createElement('script');\n",
              "    tag.src = uri;\n",
              "    tag.async = true;\n",
              "    tag.onload = () => {\n",
              "        exports = savedexports;\n",
              "        module = savedmodule;\n",
              "        resolve();\n",
              "    };\n",
              "  var firstScriptTag = document.getElementsByTagName('script')[0];\n",
              "  firstScriptTag.parentNode.insertBefore(tag, firstScriptTag);\n",
              "});\n",
              "};\n",
              "\n",
              "if(typeof $3Dmolpromise === 'undefined') {\n",
              "$3Dmolpromise = null;\n",
              "  $3Dmolpromise = loadScriptAsync('https://cdnjs.cloudflare.com/ajax/libs/3Dmol/2.4.2/3Dmol-min.js');\n",
              "}\n",
              "\n",
              "var viewer_17359332327753377 = null;\n",
              "var warn = document.getElementById(\"3dmolwarning_17359332327753377\");\n",
              "if(warn) {\n",
              "    warn.parentNode.removeChild(warn);\n",
              "}\n",
              "$3Dmolpromise.then(function() {\n",
              "viewer_17359332327753377 = $3Dmol.createViewer(document.getElementById(\"3dmolviewer_17359332327753377\"),{backgroundColor:\"white\"});\n",
              "viewer_17359332327753377.zoomTo();\n",
              "\tviewer_17359332327753377.addModelsAsFrames(\"MODEL        0\\nATOM      1  CA  GLY A   1       9.0131008.152 990.109  1.00  0.00           C  \\nATOM      2  CA  PRO A   2       9.8231006.483 986.917  1.00  0.00           C  \\nATOM      3  CA  GLY A   3      11.7661003.509 985.950  1.00  0.00           C  \\nATOM      4  CA  MET A   4      10.8601000.491 988.122  1.00  0.00           C  \\nATOM      5  CA  ARG A   5      11.4871001.816 991.707  1.00  0.00           C  \\nATOM      6  CA  GLY A   6      14.2251003.449 993.622  1.00  0.00           C  \\nATOM      7  CA  LYS A   7      17.7211005.489 993.913  1.00  0.00           C  \\nATOM      8  CA  VAL A   8      16.9921006.301 989.922  1.00  0.00           C  \\nATOM      9  CA  LYS A   9      16.4441009.823 988.851  1.00  0.00           C  \\nATOM     10  CA  TRP A  10      14.9611012.288 986.042  1.00  0.00           C  \\nATOM     11  CA  PHE A  11      13.3331010.404 983.137  1.00  0.00           C  \\nATOM     12  CA  ASP A  12      13.1961008.885 979.481  1.00  0.00           C  \\nATOM     13  CA  SER A  13      11.6751005.786 977.780  1.00  0.00           C  \\nATOM     14  CA  LYS A  14       9.4351002.990 977.030  1.00  0.00           C  \\nATOM     15  CA  LYS A  15       6.5851000.737 978.178  1.00  0.00           C  \\nATOM     16  CA  GLY A  16       5.262 997.293 978.347  1.00  0.00           C  \\nATOM     17  CA  TYR A  17       5.362 994.868 980.809  1.00  0.00           C  \\nATOM     18  CA  GLY A  18       3.992 991.779 982.566  1.00  0.00           C  \\nATOM     19  CA  PHE A  19       5.507 989.029 984.440  1.00  0.00           C  \\nATOM     20  CA  ILE A  20       5.260 989.028 987.939  1.00  0.00           C  \\nATOM     21  CA  THR A  21       3.109 992.349 989.057  1.00  0.00           C  \\nATOM     22  CA  LYS A  22       1.376 995.612 989.154  1.00  0.00           C  \\nATOM     23  CA  ASP A  23       0.112 997.343 992.416  1.00  0.00           C  \\nATOM     24  CA  GLU A  24      -0.194 995.439 995.749  1.00  0.00           C  \\nATOM     25  CA  GLY A  25      -0.104 993.630 999.248  1.00  0.00           C  \\nATOM     26  CA  GLY A  26       3.309 995.7251000.507  1.00  0.00           C  \\nATOM     27  CA  ASP A  27       6.251 997.8721002.638  1.00  0.00           C  \\nATOM     28  CA  VAL A  28       3.262 999.6701003.405  1.00  0.00           C  \\nATOM     29  CA  PHE A  29       0.0691000.6791001.695  1.00  0.00           C  \\nATOM     30  CA  VAL A  30      -0.1671003.601 999.169  1.00  0.00           C  \\nATOM     31  CA  HIS A  31      -2.7891003.143 996.212  1.00  0.00           C  \\nATOM     32  CA  TRP A  32      -2.1761006.098 993.354  1.00  0.00           C  \\nATOM     33  CA  SER A  33      -5.5721005.309 991.463  1.00  0.00           C  \\nATOM     34  CA  ALA A  34      -8.7861004.302 992.161  1.00  0.00           C  \\nATOM     35  CA  ILE A  35      -9.1361005.018 995.614  1.00  0.00           C  \\nATOM     36  CA  GLU A  36     -11.7411006.086 997.828  1.00  0.00           C  \\nATOM     37  CA  MET A  37     -13.8191004.3331000.453  1.00  0.00           C  \\nATOM     38  CA  GLU A  38     -17.3591004.006 999.344  1.00  0.00           C  \\nATOM     39  CA  GLY A  39     -18.7421002.6631002.597  1.00  0.00           C  \\nATOM     40  CA  PHE A  40     -18.0131003.6761006.070  1.00  0.00           C  \\nATOM     41  CA  LYS A  41     -14.7681002.4961007.695  1.00  0.00           C  \\nATOM     42  CA  THR A  42     -11.8501000.3981006.273  1.00  0.00           C  \\nATOM     43  CA  LEU A  43     -11.774 998.2421003.099  1.00  0.00           C  \\nATOM     44  CA  LYS A  44      -9.599 996.2771000.373  1.00  0.00           C  \\nATOM     45  CA  GLU A  45      -5.953 996.3421000.876  1.00  0.00           C  \\nATOM     46  CA  GLY A  46      -5.499 996.4141004.805  1.00  0.00           C  \\nATOM     47  CA  GLN A  47      -6.356 993.3521006.625  1.00  0.00           C  \\nATOM     48  CA  VAL A  48      -9.552 992.3891008.685  1.00  0.00           C  \\nATOM     49  CA  VAL A  49     -10.065 989.9871011.702  1.00  0.00           C  \\nATOM     50  CA  GLU A  50     -11.310 988.0841014.949  1.00  0.00           C  \\nATOM     51  CA  PHE A  51     -12.421 990.5821017.811  1.00  0.00           C  \\nATOM     52  CA  GLU A  52     -10.957 993.7521019.316  1.00  0.00           C  \\nATOM     53  CA  ILE A  53      -8.941 996.6281018.473  1.00  0.00           C  \\nATOM     54  CA  GLN A  54      -6.876 998.8301016.144  1.00  0.00           C  \\nATOM     55  CA  GLU A  55      -3.228 998.9061017.665  1.00  0.00           C  \\nATOM     56  CA  GLY A  56      -2.429 995.0451018.068  1.00  0.00           C  \\nATOM     57  CA  LYS A  57      -1.005 992.2671016.068  1.00  0.00           C  \\nATOM     58  CA  LYS A  58       2.563 991.3311015.565  1.00  0.00           C  \\nATOM     59  CA  GLY A  59       4.538 994.3631014.638  1.00  0.00           C  \\nATOM     60  CA  GLY A  60       6.083 996.5121011.553  1.00  0.00           C  \\nATOM     61  CA  GLN A  61       3.271 997.4061009.568  1.00  0.00           C  \\nATOM     62  CA  ALA A  62      -0.633 997.3641008.076  1.00  0.00           C  \\nATOM     63  CA  ALA A  63      -1.899 999.5841011.076  1.00  0.00           C  \\nATOM     64  CA  HIS A  64       0.2941002.7041012.396  1.00  0.00           C  \\nATOM     65  CA  VAL A  65       1.9451004.2611009.399  1.00  0.00           C  \\nATOM     66  CA  LYS A  66       4.1461007.2891008.822  1.00  0.00           C  \\nATOM     67  CA  VAL A  67       4.9251008.2701005.193  1.00  0.00           C  \\nTER      68      VAL A  67\\nENDMDL\\nEND\\n\",\"pdb\");\n",
              "\tviewer_17359332327753377.setBackgroundColor(\"white\");\n",
              "\tviewer_17359332327753377.setStyle({\"sphere\": {\"colorscheme\": \"amino\"}});\n",
              "\tviewer_17359332327753377.zoomTo();\n",
              "viewer_17359332327753377.render();\n",
              "});\n",
              "</script>"
            ]
          },
          "metadata": {}
        }
      ],
      "source": [
        "# visualize specific frame of trajectory\n",
        "frame_number = 400\n",
        "traj = mdtraj.load_dcd('output.dcd', top=ca_pdb)\n",
        "frame = traj[frame_number]\n",
        "#frame = traj  # to visualize whole trajectorie as movie\n",
        "frame.save_pdb('frame.pdb')\n",
        "view = py3Dmol.view(width=400, height=400)\n",
        "view.addModelsAsFrames(open('frame.pdb', 'r').read(),'pdb')\n",
        "view.setBackgroundColor('white')\n",
        "\n",
        "# Colorschemes https://3dmol.csb.pitt.edu/doc/global.html#builtinColorSchemes\n",
        "#view.setStyle({'sphere': {'color':'green'}})  # same color\n",
        "#view.setStyle({'sphere':{'colorscheme':{'prop':'resi','gradient':'roygb','min':26,'max':109}}})  # gradient color\n",
        "view.setStyle({'sphere': {'colorscheme':'amino'}})  # amino acid color\n",
        "#view.setStyle({'sphere': {'colorscheme':'shapely'}})  # amino acid color\n",
        "view.zoomTo()\n",
        "#view.zoomTo({'model':-1})\n",
        "#view.animate({'loop': \"forward\", 'interval': 1000})  # for movies\n",
        "view.show()"
      ]
    },
    {
      "cell_type": "code",
      "execution_count": 12,
      "metadata": {
        "id": "VdLM3dDCjdog"
      },
      "outputs": [],
      "source": [
        "# define function to create list of aminoacid masses\n",
        "def build_mass_array(sequence):\n",
        "    ''' Build a mass array with given sequence.\n",
        "    '''\n",
        "    # masses copied from OpenABC github functions\n",
        "    mass_dict={'ALA': 71.08, 'ARG': 156.2, 'ASN': 114.1, 'ASP': 115.1, 'CYS': 103.1, 'GLN': 128.1, 'GLU': 129.1,\n",
        "               'GLY': 57.05, 'HIS': 137.1, 'ILE': 113.2, 'LEU': 113.2, 'LYS': 128.2, 'MET': 131.2,\n",
        "               'PHE': 147.2, 'PRO': 97.12, 'SER': 87.08, 'THR': 101.1, 'TRP': 186.2, 'TYR': 163.2, 'VAL': 99.07}\n",
        "\n",
        "    n_atoms = len(sequence)\n",
        "    data = np.zeros(n_atoms)\n",
        "    for i in range(n_atoms):\n",
        "        resname = protein_lib._amino_acid_1_letter_to_3_letters_dict[sequence[i]]\n",
        "        data[i] = mass_dict[resname]\n",
        "\n",
        "    return data\n"
      ]
    },
    {
      "cell_type": "code",
      "execution_count": 13,
      "metadata": {
        "colab": {
          "base_uri": "https://localhost:8080/",
          "height": 472
        },
        "id": "DruafpAtdn9A",
        "outputId": "cdc5ebf8-f7d6-45d0-c8f8-1fbeba2e2e8a"
      },
      "outputs": [
        {
          "output_type": "display_data",
          "data": {
            "text/plain": [
              "<Figure size 640x480 with 1 Axes>"
            ],
            "image/png": "[encoded data removed]"
          },
          "metadata": {}
        }
      ],
      "source": [
        "masses = build_mass_array(sequence)\n",
        "# make a plot of Rg vs time\n",
        "# MDtraj page: https://www.mdtraj.org/1.9.8.dev0/index.html\n",
        "rg = mdtraj.compute_rg(traj, masses)  # masses = None assumes all aminoacids have same mass\n",
        "# rg = compute_rg(traj,masses)  # OpenABC has a helper Rg function too. Haven't tested\n",
        "timearray = np.arange(len(rg))*output_interval/nanosec\n",
        "plt.plot(timearray,rg)\n",
        "plt.xlabel('Time (ns)')\n",
        "plt.ylabel('Radius of Gyration (nm)')\n",
        "plt.title('Radius of Gyration vs. Time')\n",
        "plt.show()"
      ]
    },
    {
      "cell_type": "code",
      "execution_count": 23,
      "metadata": {
        "colab": {
          "base_uri": "https://localhost:8080/"
        },
        "id": "33C3kdz3c9hw",
        "outputId": "345083e5-87e1-4803-aa85-c15c38972f2c"
      },
      "outputs": [
        {
          "output_type": "execute_result",
          "data": {
            "text/plain": [
              "1.6005131799764047"
            ]
          },
          "metadata": {},
          "execution_count": 23
        }
      ],
      "source": [
        "# Calculate the average Rg after equilibration time\n",
        "equilibration_time = 2 # ns\n",
        "equilibration_time_steps = int(equilibration_time*nanosec/output_interval)\n",
        "average_rg = np.mean(rg[equilibration_time_steps:])\n",
        "average_rg"
      ]
    },
    {
      "cell_type": "code",
      "source": [],
      "metadata": {
        "id": "LBd9oEeWpT-R"
      },
      "execution_count": null,
      "outputs": []
    }
  ],
  "metadata": {
    "accelerator": "GPU",
    "colab": {
      "gpuType": "T4",
      "provenance": []
    },
    "kernelspec": {
      "display_name": "Python 3",
      "name": "python3"
    },
    "language_info": {
      "name": "python"
    }
  },
  "nbformat": 4,
  "nbformat_minor": 0
}